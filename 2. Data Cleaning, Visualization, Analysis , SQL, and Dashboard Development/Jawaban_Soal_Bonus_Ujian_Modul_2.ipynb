{
 "cells": [
  {
   "cell_type": "markdown",
   "metadata": {},
   "source": [
    "There are several interesting insights obtained from the data exploration. The insights are listed below:\n",
    "1. The ratio of claim occurence since the first incident claim is doubled in Minneapolis/ St.Paul International Airport compared to other airports. There doesn't seem to be any particular reasoning for this to happen. However, half of the claims occur from passengers using Northwest Airlines. When observed further Northwest Airline isn't the reason for claims in other airports beside of Minneapolis/ St.Paul International Airport and Detroit Airport.\n",
    "\n",
    "2. There is a slight decreasing trend between how quick a claim is processed (Date Recieved-Incident Date) over the years. \n",
    "\n",
    "3. Status was recorded for the very first time for an incident date in 2010. This shown by status' value which is recorded in a different format since 2010."
   ]
  },
  {
   "cell_type": "code",
   "execution_count": 1,
   "metadata": {
    "ExecuteTime": {
     "end_time": "2019-10-20T15:13:28.359040Z",
     "start_time": "2019-10-20T15:13:20.695735Z"
    }
   },
   "outputs": [
    {
     "data": {
      "text/html": [
       "        <script type=\"text/javascript\">\n",
       "        window.PlotlyConfig = {MathJaxConfig: 'local'};\n",
       "        if (window.MathJax) {MathJax.Hub.Config({SVG: {font: \"STIX-Web\"}});}\n",
       "        if (typeof require !== 'undefined') {\n",
       "        require.undef(\"plotly\");\n",
       "        requirejs.config({\n",
       "            paths: {\n",
       "                'plotly': ['https://cdn.plot.ly/plotly-latest.min']\n",
       "            }\n",
       "        });\n",
       "        require(['plotly'], function(Plotly) {\n",
       "            window._Plotly = Plotly;\n",
       "        });\n",
       "        }\n",
       "        </script>\n",
       "        "
      ]
     },
     "metadata": {},
     "output_type": "display_data"
    }
   ],
   "source": [
    "import pandas as pd\n",
    "import numpy as np\n",
    "import matplotlib.pyplot as plt\n",
    "import seaborn as sns\n",
    "import re\n",
    "%matplotlib inline\n",
    "import plotly.graph_objs as go\n",
    "from plotly.offline import download_plotlyjs, init_notebook_mode, plot, iplot\n",
    "init_notebook_mode(connected=True)\n",
    "from ipywidgets import interact"
   ]
  },
  {
   "cell_type": "code",
   "execution_count": 2,
   "metadata": {
    "ExecuteTime": {
     "end_time": "2019-10-20T15:13:28.381094Z",
     "start_time": "2019-10-20T15:13:28.359040Z"
    }
   },
   "outputs": [],
   "source": [
    "pd.options.display.max_rows = 9999"
   ]
  },
  {
   "cell_type": "code",
   "execution_count": 3,
   "metadata": {
    "ExecuteTime": {
     "end_time": "2019-10-20T15:13:29.512973Z",
     "start_time": "2019-10-20T15:13:28.393098Z"
    }
   },
   "outputs": [],
   "source": [
    "tsa = pd.read_csv('tsa_claims_ujian.csv')"
   ]
  },
  {
   "cell_type": "code",
   "execution_count": 4,
   "metadata": {
    "ExecuteTime": {
     "end_time": "2019-10-20T15:13:30.703964Z",
     "start_time": "2019-10-20T15:13:29.521890Z"
    }
   },
   "outputs": [
    {
     "data": {
      "text/html": [
       "<div>\n",
       "<style scoped>\n",
       "    .dataframe tbody tr th:only-of-type {\n",
       "        vertical-align: middle;\n",
       "    }\n",
       "\n",
       "    .dataframe tbody tr th {\n",
       "        vertical-align: top;\n",
       "    }\n",
       "\n",
       "    .dataframe thead th {\n",
       "        text-align: right;\n",
       "    }\n",
       "</style>\n",
       "<table border=\"1\" class=\"dataframe\">\n",
       "  <thead>\n",
       "    <tr style=\"text-align: right;\">\n",
       "      <th></th>\n",
       "      <th>dataFeatures</th>\n",
       "      <th>dataType</th>\n",
       "      <th>notNull</th>\n",
       "      <th>null</th>\n",
       "      <th>nullPct</th>\n",
       "      <th>unique</th>\n",
       "      <th>min_value</th>\n",
       "      <th>max_value</th>\n",
       "      <th>uniqueSample</th>\n",
       "    </tr>\n",
       "  </thead>\n",
       "  <tbody>\n",
       "    <tr>\n",
       "      <th>0</th>\n",
       "      <td>Claim Number</td>\n",
       "      <td>object</td>\n",
       "      <td>51066</td>\n",
       "      <td>0</td>\n",
       "      <td>0.00</td>\n",
       "      <td>51065</td>\n",
       "      <td>-</td>\n",
       "      <td>-</td>\n",
       "      <td>[2015042822164, 2010102577320]</td>\n",
       "    </tr>\n",
       "    <tr>\n",
       "      <th>1</th>\n",
       "      <td>Date Received</td>\n",
       "      <td>object</td>\n",
       "      <td>50996</td>\n",
       "      <td>70</td>\n",
       "      <td>0.14</td>\n",
       "      <td>3522</td>\n",
       "      <td>-</td>\n",
       "      <td>-</td>\n",
       "      <td>[4-Nov-02, 27-Jul-14]</td>\n",
       "    </tr>\n",
       "    <tr>\n",
       "      <th>2</th>\n",
       "      <td>Incident Date</td>\n",
       "      <td>object</td>\n",
       "      <td>50496</td>\n",
       "      <td>570</td>\n",
       "      <td>1.12</td>\n",
       "      <td>10788</td>\n",
       "      <td>-</td>\n",
       "      <td>-</td>\n",
       "      <td>[11/10/2010 14:28, 6/27/2013 2:05]</td>\n",
       "    </tr>\n",
       "    <tr>\n",
       "      <th>3</th>\n",
       "      <td>Airport Code</td>\n",
       "      <td>object</td>\n",
       "      <td>49014</td>\n",
       "      <td>2052</td>\n",
       "      <td>4.02</td>\n",
       "      <td>405</td>\n",
       "      <td>-</td>\n",
       "      <td>-</td>\n",
       "      <td>[SBA, HKY]</td>\n",
       "    </tr>\n",
       "    <tr>\n",
       "      <th>4</th>\n",
       "      <td>Airport Name</td>\n",
       "      <td>object</td>\n",
       "      <td>49014</td>\n",
       "      <td>2052</td>\n",
       "      <td>4.02</td>\n",
       "      <td>419</td>\n",
       "      <td>-</td>\n",
       "      <td>-</td>\n",
       "      <td>[Gustavus, Lihue Airport]</td>\n",
       "    </tr>\n",
       "    <tr>\n",
       "      <th>5</th>\n",
       "      <td>Airline Name</td>\n",
       "      <td>object</td>\n",
       "      <td>42511</td>\n",
       "      <td>8555</td>\n",
       "      <td>16.75</td>\n",
       "      <td>243</td>\n",
       "      <td>-</td>\n",
       "      <td>-</td>\n",
       "      <td>[China Southern Airlines, Pacific Southwest Ai...</td>\n",
       "    </tr>\n",
       "    <tr>\n",
       "      <th>6</th>\n",
       "      <td>Claim Type</td>\n",
       "      <td>object</td>\n",
       "      <td>49106</td>\n",
       "      <td>1960</td>\n",
       "      <td>3.84</td>\n",
       "      <td>8</td>\n",
       "      <td>-</td>\n",
       "      <td>-</td>\n",
       "      <td>[Personal Injury, -]</td>\n",
       "    </tr>\n",
       "    <tr>\n",
       "      <th>7</th>\n",
       "      <td>Claim Site</td>\n",
       "      <td>object</td>\n",
       "      <td>50876</td>\n",
       "      <td>190</td>\n",
       "      <td>0.37</td>\n",
       "      <td>6</td>\n",
       "      <td>-</td>\n",
       "      <td>-</td>\n",
       "      <td>[Motor Vehicle, -]</td>\n",
       "    </tr>\n",
       "    <tr>\n",
       "      <th>8</th>\n",
       "      <td>Item</td>\n",
       "      <td>object</td>\n",
       "      <td>50054</td>\n",
       "      <td>1012</td>\n",
       "      <td>1.98</td>\n",
       "      <td>1854</td>\n",
       "      <td>-</td>\n",
       "      <td>-</td>\n",
       "      <td>[Furniture (including brass &amp; cement furniture...</td>\n",
       "    </tr>\n",
       "    <tr>\n",
       "      <th>9</th>\n",
       "      <td>Claim Amount</td>\n",
       "      <td>object</td>\n",
       "      <td>50074</td>\n",
       "      <td>992</td>\n",
       "      <td>1.94</td>\n",
       "      <td>13248</td>\n",
       "      <td>-</td>\n",
       "      <td>-</td>\n",
       "      <td>[$539.00 , $194.98 ]</td>\n",
       "    </tr>\n",
       "    <tr>\n",
       "      <th>10</th>\n",
       "      <td>Status</td>\n",
       "      <td>object</td>\n",
       "      <td>51065</td>\n",
       "      <td>1</td>\n",
       "      <td>0.00</td>\n",
       "      <td>13</td>\n",
       "      <td>-</td>\n",
       "      <td>-</td>\n",
       "      <td>[In review, Deny]</td>\n",
       "    </tr>\n",
       "    <tr>\n",
       "      <th>11</th>\n",
       "      <td>Close Amount</td>\n",
       "      <td>object</td>\n",
       "      <td>33786</td>\n",
       "      <td>17280</td>\n",
       "      <td>33.84</td>\n",
       "      <td>6009</td>\n",
       "      <td>-</td>\n",
       "      <td>-</td>\n",
       "      <td>[$495.85 , $412.50 ]</td>\n",
       "    </tr>\n",
       "    <tr>\n",
       "      <th>12</th>\n",
       "      <td>Disposition</td>\n",
       "      <td>object</td>\n",
       "      <td>32846</td>\n",
       "      <td>18220</td>\n",
       "      <td>35.68</td>\n",
       "      <td>3</td>\n",
       "      <td>-</td>\n",
       "      <td>-</td>\n",
       "      <td>[Deny, nan]</td>\n",
       "    </tr>\n",
       "  </tbody>\n",
       "</table>\n",
       "</div>"
      ],
      "text/plain": [
       "     dataFeatures dataType  notNull   null  nullPct  unique min_value  \\\n",
       "0    Claim Number   object    51066      0     0.00   51065         -   \n",
       "1   Date Received   object    50996     70     0.14    3522         -   \n",
       "2   Incident Date   object    50496    570     1.12   10788         -   \n",
       "3    Airport Code   object    49014   2052     4.02     405         -   \n",
       "4    Airport Name   object    49014   2052     4.02     419         -   \n",
       "5    Airline Name   object    42511   8555    16.75     243         -   \n",
       "6      Claim Type   object    49106   1960     3.84       8         -   \n",
       "7      Claim Site   object    50876    190     0.37       6         -   \n",
       "8            Item   object    50054   1012     1.98    1854         -   \n",
       "9    Claim Amount   object    50074    992     1.94   13248         -   \n",
       "10         Status   object    51065      1     0.00      13         -   \n",
       "11   Close Amount   object    33786  17280    33.84    6009         -   \n",
       "12    Disposition   object    32846  18220    35.68       3         -   \n",
       "\n",
       "   max_value                                       uniqueSample  \n",
       "0          -                     [2015042822164, 2010102577320]  \n",
       "1          -                              [4-Nov-02, 27-Jul-14]  \n",
       "2          -                 [11/10/2010 14:28, 6/27/2013 2:05]  \n",
       "3          -                                         [SBA, HKY]  \n",
       "4          -                          [Gustavus, Lihue Airport]  \n",
       "5          -  [China Southern Airlines, Pacific Southwest Ai...  \n",
       "6          -                               [Personal Injury, -]  \n",
       "7          -                                 [Motor Vehicle, -]  \n",
       "8          -  [Furniture (including brass & cement furniture...  \n",
       "9          -                               [$539.00 , $194.98 ]  \n",
       "10         -                                  [In review, Deny]  \n",
       "11         -                               [$495.85 , $412.50 ]  \n",
       "12         -                                        [Deny, nan]  "
      ]
     },
     "execution_count": 4,
     "metadata": {},
     "output_type": "execute_result"
    }
   ],
   "source": [
    "def info_df(data):\n",
    "    max_val = []\n",
    "    min_val = []\n",
    "    for col in data:\n",
    "        if col in data.select_dtypes(['datetime','number']).columns:\n",
    "            max_val.append(data[col].max())\n",
    "            min_val.append(data[col].min())\n",
    "        else:\n",
    "            max_val.append('-')\n",
    "            min_val.append('-')\n",
    "            \n",
    "            \n",
    "    return pd.DataFrame(dict(dataFeatures=data.columns,\n",
    "                             dataType=data.dtypes,\n",
    "                             notNull=data.notnull().sum(),\n",
    "                             null=data.isna().sum(),\n",
    "                             nullPct=round(data.isna().sum()/len(data)*100,2),\n",
    "                             unique=data.nunique(),\n",
    "                             min_value=min_val,\n",
    "                             max_value=max_val,\n",
    "                             uniqueSample=[list(data[i].drop_duplicates().sample(2)) for i in data.columns]\n",
    "                            )).reset_index(drop=True)\n",
    "\n",
    "info_df(tsa)"
   ]
  },
  {
   "cell_type": "code",
   "execution_count": 5,
   "metadata": {
    "ExecuteTime": {
     "end_time": "2019-10-20T15:15:21.442302Z",
     "start_time": "2019-10-20T15:13:30.715969Z"
    },
    "code_folding": []
   },
   "outputs": [],
   "source": [
    "#replace '-'\n",
    "tsa.replace({'-':np.nan},inplace=True)\n",
    "\n",
    "#change Date Received and Incident Date to Datetime\n",
    "def year_cleaning(c):\n",
    "    try:\n",
    "        pd.to_datetime(c[0])\n",
    "        return c[0]\n",
    "    except:\n",
    "        return re.sub(r'\\d{4}',str(pd.to_datetime(c[1]).year),c[0])\n",
    "\n",
    "tsa['Incident Date'] = tsa[['Incident Date','Date Received']].apply(year_cleaning,axis=1)\n",
    "\n",
    "for i in ['Date Received','Incident Date']:\n",
    "    tsa[i] = pd.to_datetime(tsa[i])\n",
    "    \n",
    "#add Day Difference feature\n",
    "tsa['Day Difference'] = (tsa['Date Received']-tsa['Incident Date']).dt.days\n",
    "\n",
    "#Claim Amount and Close Amount cleaning\n",
    "for i in ['Claim Amount','Close Amount']:\n",
    "    tsa[i] = tsa[i].apply(lambda c: float(re.sub(r'([\\D]{1}(?=.\\d{2})|\\$)','',c) if not pd.isna(c) else c))\n",
    "    \n",
    "#add Amount Difference feature\n",
    "tsa['Amount Differences'] = tsa['Claim Amount']-tsa['Close Amount']\n",
    "\n",
    "tsa_null = tsa.copy()"
   ]
  },
  {
   "cell_type": "code",
   "execution_count": 6,
   "metadata": {
    "ExecuteTime": {
     "end_time": "2019-10-20T15:15:24.105920Z",
     "start_time": "2019-10-20T15:15:21.442302Z"
    }
   },
   "outputs": [
    {
     "data": {
      "text/html": [
       "<div>\n",
       "<style scoped>\n",
       "    .dataframe tbody tr th:only-of-type {\n",
       "        vertical-align: middle;\n",
       "    }\n",
       "\n",
       "    .dataframe tbody tr th {\n",
       "        vertical-align: top;\n",
       "    }\n",
       "\n",
       "    .dataframe thead th {\n",
       "        text-align: right;\n",
       "    }\n",
       "</style>\n",
       "<table border=\"1\" class=\"dataframe\">\n",
       "  <thead>\n",
       "    <tr style=\"text-align: right;\">\n",
       "      <th></th>\n",
       "      <th>dataFeatures</th>\n",
       "      <th>dataType</th>\n",
       "      <th>notNull</th>\n",
       "      <th>null</th>\n",
       "      <th>nullPct</th>\n",
       "      <th>unique</th>\n",
       "      <th>min_value</th>\n",
       "      <th>max_value</th>\n",
       "      <th>uniqueSample</th>\n",
       "    </tr>\n",
       "  </thead>\n",
       "  <tbody>\n",
       "    <tr>\n",
       "      <th>0</th>\n",
       "      <td>Claim Number</td>\n",
       "      <td>object</td>\n",
       "      <td>51066</td>\n",
       "      <td>0</td>\n",
       "      <td>0.00</td>\n",
       "      <td>51065</td>\n",
       "      <td>-</td>\n",
       "      <td>-</td>\n",
       "      <td>[2011122089783, 2004063057973]</td>\n",
       "    </tr>\n",
       "    <tr>\n",
       "      <th>1</th>\n",
       "      <td>Date Received</td>\n",
       "      <td>datetime64[ns]</td>\n",
       "      <td>50996</td>\n",
       "      <td>70</td>\n",
       "      <td>0.14</td>\n",
       "      <td>3522</td>\n",
       "      <td>2000-09-08 00:00:00</td>\n",
       "      <td>2055-05-17 00:00:00</td>\n",
       "      <td>[2014-12-16 00:00:00, 2009-02-17 00:00:00]</td>\n",
       "    </tr>\n",
       "    <tr>\n",
       "      <th>2</th>\n",
       "      <td>Incident Date</td>\n",
       "      <td>datetime64[ns]</td>\n",
       "      <td>50496</td>\n",
       "      <td>570</td>\n",
       "      <td>1.12</td>\n",
       "      <td>10641</td>\n",
       "      <td>2000-01-01 00:00:00</td>\n",
       "      <td>2015-12-29 00:00:00</td>\n",
       "      <td>[2012-12-06 05:15:00, 2011-11-19 00:00:00]</td>\n",
       "    </tr>\n",
       "    <tr>\n",
       "      <th>3</th>\n",
       "      <td>Airport Code</td>\n",
       "      <td>object</td>\n",
       "      <td>48915</td>\n",
       "      <td>2151</td>\n",
       "      <td>4.21</td>\n",
       "      <td>404</td>\n",
       "      <td>-</td>\n",
       "      <td>-</td>\n",
       "      <td>[MAF, JFK]</td>\n",
       "    </tr>\n",
       "    <tr>\n",
       "      <th>4</th>\n",
       "      <td>Airport Name</td>\n",
       "      <td>object</td>\n",
       "      <td>48915</td>\n",
       "      <td>2151</td>\n",
       "      <td>4.21</td>\n",
       "      <td>418</td>\n",
       "      <td>-</td>\n",
       "      <td>-</td>\n",
       "      <td>[University of Illinois-Willard, Waterloo Muni...</td>\n",
       "    </tr>\n",
       "    <tr>\n",
       "      <th>5</th>\n",
       "      <td>Airline Name</td>\n",
       "      <td>object</td>\n",
       "      <td>41470</td>\n",
       "      <td>9596</td>\n",
       "      <td>18.79</td>\n",
       "      <td>242</td>\n",
       "      <td>-</td>\n",
       "      <td>-</td>\n",
       "      <td>[Southwest Airlines  , Arika Isreali Airlines  ]</td>\n",
       "    </tr>\n",
       "    <tr>\n",
       "      <th>6</th>\n",
       "      <td>Claim Type</td>\n",
       "      <td>object</td>\n",
       "      <td>49035</td>\n",
       "      <td>2031</td>\n",
       "      <td>3.98</td>\n",
       "      <td>7</td>\n",
       "      <td>-</td>\n",
       "      <td>-</td>\n",
       "      <td>[Employee Loss (MPCECA), Complaint]</td>\n",
       "    </tr>\n",
       "    <tr>\n",
       "      <th>7</th>\n",
       "      <td>Claim Site</td>\n",
       "      <td>object</td>\n",
       "      <td>50817</td>\n",
       "      <td>249</td>\n",
       "      <td>0.49</td>\n",
       "      <td>5</td>\n",
       "      <td>-</td>\n",
       "      <td>-</td>\n",
       "      <td>[Checkpoint, Checked Baggage]</td>\n",
       "    </tr>\n",
       "    <tr>\n",
       "      <th>8</th>\n",
       "      <td>Item</td>\n",
       "      <td>object</td>\n",
       "      <td>48918</td>\n",
       "      <td>2148</td>\n",
       "      <td>4.21</td>\n",
       "      <td>1853</td>\n",
       "      <td>-</td>\n",
       "      <td>-</td>\n",
       "      <td>[Cosmetics - Perfume; toilet articles; medicin...</td>\n",
       "    </tr>\n",
       "    <tr>\n",
       "      <th>9</th>\n",
       "      <td>Claim Amount</td>\n",
       "      <td>float64</td>\n",
       "      <td>46886</td>\n",
       "      <td>4180</td>\n",
       "      <td>8.19</td>\n",
       "      <td>13247</td>\n",
       "      <td>0</td>\n",
       "      <td>1.25e+08</td>\n",
       "      <td>[224.86, 92.75]</td>\n",
       "    </tr>\n",
       "    <tr>\n",
       "      <th>10</th>\n",
       "      <td>Status</td>\n",
       "      <td>object</td>\n",
       "      <td>47877</td>\n",
       "      <td>3189</td>\n",
       "      <td>6.24</td>\n",
       "      <td>12</td>\n",
       "      <td>-</td>\n",
       "      <td>-</td>\n",
       "      <td>[In review, Settle]</td>\n",
       "    </tr>\n",
       "    <tr>\n",
       "      <th>11</th>\n",
       "      <td>Close Amount</td>\n",
       "      <td>float64</td>\n",
       "      <td>33786</td>\n",
       "      <td>17280</td>\n",
       "      <td>33.84</td>\n",
       "      <td>6009</td>\n",
       "      <td>0</td>\n",
       "      <td>250000</td>\n",
       "      <td>[31.87, 158.97]</td>\n",
       "    </tr>\n",
       "    <tr>\n",
       "      <th>12</th>\n",
       "      <td>Disposition</td>\n",
       "      <td>object</td>\n",
       "      <td>32846</td>\n",
       "      <td>18220</td>\n",
       "      <td>35.68</td>\n",
       "      <td>3</td>\n",
       "      <td>-</td>\n",
       "      <td>-</td>\n",
       "      <td>[Approve in Full, Settle]</td>\n",
       "    </tr>\n",
       "    <tr>\n",
       "      <th>13</th>\n",
       "      <td>Day Difference</td>\n",
       "      <td>float64</td>\n",
       "      <td>50460</td>\n",
       "      <td>606</td>\n",
       "      <td>1.19</td>\n",
       "      <td>825</td>\n",
       "      <td>-1789</td>\n",
       "      <td>18279</td>\n",
       "      <td>[237.0, 33.0]</td>\n",
       "    </tr>\n",
       "    <tr>\n",
       "      <th>14</th>\n",
       "      <td>Amount Differences</td>\n",
       "      <td>float64</td>\n",
       "      <td>33470</td>\n",
       "      <td>17596</td>\n",
       "      <td>34.46</td>\n",
       "      <td>10495</td>\n",
       "      <td>-431.1</td>\n",
       "      <td>1.25e+08</td>\n",
       "      <td>[203.9, 1543.59]</td>\n",
       "    </tr>\n",
       "  </tbody>\n",
       "</table>\n",
       "</div>"
      ],
      "text/plain": [
       "          dataFeatures        dataType  notNull   null  nullPct  unique  \\\n",
       "0         Claim Number          object    51066      0     0.00   51065   \n",
       "1        Date Received  datetime64[ns]    50996     70     0.14    3522   \n",
       "2        Incident Date  datetime64[ns]    50496    570     1.12   10641   \n",
       "3         Airport Code          object    48915   2151     4.21     404   \n",
       "4         Airport Name          object    48915   2151     4.21     418   \n",
       "5         Airline Name          object    41470   9596    18.79     242   \n",
       "6           Claim Type          object    49035   2031     3.98       7   \n",
       "7           Claim Site          object    50817    249     0.49       5   \n",
       "8                 Item          object    48918   2148     4.21    1853   \n",
       "9         Claim Amount         float64    46886   4180     8.19   13247   \n",
       "10              Status          object    47877   3189     6.24      12   \n",
       "11        Close Amount         float64    33786  17280    33.84    6009   \n",
       "12         Disposition          object    32846  18220    35.68       3   \n",
       "13      Day Difference         float64    50460    606     1.19     825   \n",
       "14  Amount Differences         float64    33470  17596    34.46   10495   \n",
       "\n",
       "              min_value            max_value  \\\n",
       "0                     -                    -   \n",
       "1   2000-09-08 00:00:00  2055-05-17 00:00:00   \n",
       "2   2000-01-01 00:00:00  2015-12-29 00:00:00   \n",
       "3                     -                    -   \n",
       "4                     -                    -   \n",
       "5                     -                    -   \n",
       "6                     -                    -   \n",
       "7                     -                    -   \n",
       "8                     -                    -   \n",
       "9                     0             1.25e+08   \n",
       "10                    -                    -   \n",
       "11                    0               250000   \n",
       "12                    -                    -   \n",
       "13                -1789                18279   \n",
       "14               -431.1             1.25e+08   \n",
       "\n",
       "                                         uniqueSample  \n",
       "0                      [2011122089783, 2004063057973]  \n",
       "1          [2014-12-16 00:00:00, 2009-02-17 00:00:00]  \n",
       "2          [2012-12-06 05:15:00, 2011-11-19 00:00:00]  \n",
       "3                                          [MAF, JFK]  \n",
       "4   [University of Illinois-Willard, Waterloo Muni...  \n",
       "5    [Southwest Airlines  , Arika Isreali Airlines  ]  \n",
       "6                 [Employee Loss (MPCECA), Complaint]  \n",
       "7                       [Checkpoint, Checked Baggage]  \n",
       "8   [Cosmetics - Perfume; toilet articles; medicin...  \n",
       "9                                     [224.86, 92.75]  \n",
       "10                                [In review, Settle]  \n",
       "11                                    [31.87, 158.97]  \n",
       "12                          [Approve in Full, Settle]  \n",
       "13                                      [237.0, 33.0]  \n",
       "14                                   [203.9, 1543.59]  "
      ]
     },
     "execution_count": 6,
     "metadata": {},
     "output_type": "execute_result"
    }
   ],
   "source": [
    "info_df(tsa)"
   ]
  },
  {
   "cell_type": "code",
   "execution_count": 7,
   "metadata": {
    "ExecuteTime": {
     "end_time": "2019-10-20T15:15:24.521493Z",
     "start_time": "2019-10-20T15:15:24.112438Z"
    }
   },
   "outputs": [],
   "source": [
    "nan_fill = {}\n",
    "\n",
    "types = ['object','datetime','number']\n",
    "fills = ['null',pd.Timestamp(1900,12,12),-3000]\n",
    "for typ, fill in zip(types,fills):\n",
    "    for col in [cols for cols in tsa.select_dtypes(typ)]:\n",
    "        nan_fill[col] = fill\n",
    "\n",
    "# nan_fill\n",
    "tsa.fillna(nan_fill,inplace=True)"
   ]
  },
  {
   "cell_type": "code",
   "execution_count": null,
   "metadata": {
    "ExecuteTime": {
     "start_time": "2019-10-20T15:13:20.851Z"
    },
    "code_folding": [
     0
    ],
    "scrolled": true
   },
   "outputs": [
    {
     "data": {
      "text/html": [
       "<div>\n",
       "<style scoped>\n",
       "    .dataframe tbody tr th:only-of-type {\n",
       "        vertical-align: middle;\n",
       "    }\n",
       "\n",
       "    .dataframe tbody tr th {\n",
       "        vertical-align: top;\n",
       "    }\n",
       "\n",
       "    .dataframe thead th {\n",
       "        text-align: right;\n",
       "    }\n",
       "</style>\n",
       "<table border=\"1\" class=\"dataframe\">\n",
       "  <thead>\n",
       "    <tr style=\"text-align: right;\">\n",
       "      <th></th>\n",
       "      <th>dataFeatures</th>\n",
       "      <th>dataType</th>\n",
       "      <th>notNull</th>\n",
       "      <th>null</th>\n",
       "      <th>nullPct</th>\n",
       "      <th>nullFill</th>\n",
       "      <th>unique</th>\n",
       "      <th>min_value</th>\n",
       "      <th>max_value</th>\n",
       "      <th>uniqueSample</th>\n",
       "    </tr>\n",
       "  </thead>\n",
       "  <tbody>\n",
       "    <tr>\n",
       "      <th>0</th>\n",
       "      <td>Claim Number</td>\n",
       "      <td>object</td>\n",
       "      <td>51066</td>\n",
       "      <td>0</td>\n",
       "      <td>0.0</td>\n",
       "      <td>null</td>\n",
       "      <td>51065</td>\n",
       "      <td>-</td>\n",
       "      <td>-</td>\n",
       "      <td>[2004090362118, 2007091832139]</td>\n",
       "    </tr>\n",
       "    <tr>\n",
       "      <th>1</th>\n",
       "      <td>Date Received</td>\n",
       "      <td>datetime64[ns]</td>\n",
       "      <td>51066</td>\n",
       "      <td>0</td>\n",
       "      <td>0.0</td>\n",
       "      <td>null</td>\n",
       "      <td>3523</td>\n",
       "      <td>-</td>\n",
       "      <td>-</td>\n",
       "      <td>[2003-03-07 00:00:00, 2007-08-16 00:00:00]</td>\n",
       "    </tr>\n",
       "    <tr>\n",
       "      <th>2</th>\n",
       "      <td>Incident Date</td>\n",
       "      <td>datetime64[ns]</td>\n",
       "      <td>51066</td>\n",
       "      <td>0</td>\n",
       "      <td>0.0</td>\n",
       "      <td>null</td>\n",
       "      <td>10642</td>\n",
       "      <td>-</td>\n",
       "      <td>-</td>\n",
       "      <td>[2009-10-17 21:15:00, 2012-01-02 00:00:00]</td>\n",
       "    </tr>\n",
       "    <tr>\n",
       "      <th>3</th>\n",
       "      <td>Airport Code</td>\n",
       "      <td>object</td>\n",
       "      <td>51066</td>\n",
       "      <td>0</td>\n",
       "      <td>0.0</td>\n",
       "      <td>null</td>\n",
       "      <td>405</td>\n",
       "      <td>-</td>\n",
       "      <td>-</td>\n",
       "      <td>[YKM, DSM]</td>\n",
       "    </tr>\n",
       "    <tr>\n",
       "      <th>4</th>\n",
       "      <td>Airport Name</td>\n",
       "      <td>object</td>\n",
       "      <td>51066</td>\n",
       "      <td>0</td>\n",
       "      <td>0.0</td>\n",
       "      <td>null</td>\n",
       "      <td>419</td>\n",
       "      <td>-</td>\n",
       "      <td>-</td>\n",
       "      <td>[Lake Charles Regional Airport, Hays Regional]</td>\n",
       "    </tr>\n",
       "    <tr>\n",
       "      <th>5</th>\n",
       "      <td>Airline Name</td>\n",
       "      <td>object</td>\n",
       "      <td>51066</td>\n",
       "      <td>0</td>\n",
       "      <td>0.0</td>\n",
       "      <td>null</td>\n",
       "      <td>243</td>\n",
       "      <td>-</td>\n",
       "      <td>-</td>\n",
       "      <td>[Air China, Mesa Airlines]</td>\n",
       "    </tr>\n",
       "    <tr>\n",
       "      <th>6</th>\n",
       "      <td>Claim Type</td>\n",
       "      <td>object</td>\n",
       "      <td>51066</td>\n",
       "      <td>0</td>\n",
       "      <td>0.0</td>\n",
       "      <td>null</td>\n",
       "      <td>8</td>\n",
       "      <td>-</td>\n",
       "      <td>-</td>\n",
       "      <td>[Employee Loss (MPCECA), Passenger Theft]</td>\n",
       "    </tr>\n",
       "    <tr>\n",
       "      <th>7</th>\n",
       "      <td>Claim Site</td>\n",
       "      <td>object</td>\n",
       "      <td>51066</td>\n",
       "      <td>0</td>\n",
       "      <td>0.0</td>\n",
       "      <td>null</td>\n",
       "      <td>6</td>\n",
       "      <td>-</td>\n",
       "      <td>-</td>\n",
       "      <td>[Checkpoint, Other]</td>\n",
       "    </tr>\n",
       "    <tr>\n",
       "      <th>8</th>\n",
       "      <td>Item</td>\n",
       "      <td>object</td>\n",
       "      <td>51066</td>\n",
       "      <td>0</td>\n",
       "      <td>0.0</td>\n",
       "      <td>null</td>\n",
       "      <td>1854</td>\n",
       "      <td>-</td>\n",
       "      <td>-</td>\n",
       "      <td>[Cameras - Digital; Cameras - Non-electronic (...</td>\n",
       "    </tr>\n",
       "    <tr>\n",
       "      <th>9</th>\n",
       "      <td>Claim Amount</td>\n",
       "      <td>float64</td>\n",
       "      <td>51066</td>\n",
       "      <td>0</td>\n",
       "      <td>0.0</td>\n",
       "      <td>1900-12-12 00:00:00</td>\n",
       "      <td>13248</td>\n",
       "      <td>2000-09-08 00:00:00</td>\n",
       "      <td>2055-05-17 00:00:00</td>\n",
       "      <td>[162.6, 21.45]</td>\n",
       "    </tr>\n",
       "    <tr>\n",
       "      <th>10</th>\n",
       "      <td>Status</td>\n",
       "      <td>object</td>\n",
       "      <td>51066</td>\n",
       "      <td>0</td>\n",
       "      <td>0.0</td>\n",
       "      <td>1900-12-12 00:00:00</td>\n",
       "      <td>13</td>\n",
       "      <td>2000-01-01 00:00:00</td>\n",
       "      <td>2015-12-29 00:00:00</td>\n",
       "      <td>[Approve in Full, Denied]</td>\n",
       "    </tr>\n",
       "    <tr>\n",
       "      <th>11</th>\n",
       "      <td>Close Amount</td>\n",
       "      <td>float64</td>\n",
       "      <td>51066</td>\n",
       "      <td>0</td>\n",
       "      <td>0.0</td>\n",
       "      <td>-3000</td>\n",
       "      <td>6010</td>\n",
       "      <td>0</td>\n",
       "      <td>1.25e+08</td>\n",
       "      <td>[206.0, 247.34]</td>\n",
       "    </tr>\n",
       "    <tr>\n",
       "      <th>12</th>\n",
       "      <td>Disposition</td>\n",
       "      <td>object</td>\n",
       "      <td>51066</td>\n",
       "      <td>0</td>\n",
       "      <td>0.0</td>\n",
       "      <td>-3000</td>\n",
       "      <td>4</td>\n",
       "      <td>0</td>\n",
       "      <td>250000</td>\n",
       "      <td>[Approve in Full, Settle]</td>\n",
       "    </tr>\n",
       "    <tr>\n",
       "      <th>13</th>\n",
       "      <td>Day Difference</td>\n",
       "      <td>float64</td>\n",
       "      <td>51066</td>\n",
       "      <td>0</td>\n",
       "      <td>0.0</td>\n",
       "      <td>-3000</td>\n",
       "      <td>826</td>\n",
       "      <td>-1789</td>\n",
       "      <td>18279</td>\n",
       "      <td>[555.0, 67.0]</td>\n",
       "    </tr>\n",
       "    <tr>\n",
       "      <th>14</th>\n",
       "      <td>Amount Differences</td>\n",
       "      <td>float64</td>\n",
       "      <td>51066</td>\n",
       "      <td>0</td>\n",
       "      <td>0.0</td>\n",
       "      <td>-3000</td>\n",
       "      <td>10496</td>\n",
       "      <td>-431.1</td>\n",
       "      <td>1.25e+08</td>\n",
       "      <td>[89.93, 875.0]</td>\n",
       "    </tr>\n",
       "  </tbody>\n",
       "</table>\n",
       "</div>"
      ],
      "text/plain": [
       "          dataFeatures        dataType  notNull  null  nullPct  \\\n",
       "0         Claim Number          object    51066     0      0.0   \n",
       "1        Date Received  datetime64[ns]    51066     0      0.0   \n",
       "2        Incident Date  datetime64[ns]    51066     0      0.0   \n",
       "3         Airport Code          object    51066     0      0.0   \n",
       "4         Airport Name          object    51066     0      0.0   \n",
       "5         Airline Name          object    51066     0      0.0   \n",
       "6           Claim Type          object    51066     0      0.0   \n",
       "7           Claim Site          object    51066     0      0.0   \n",
       "8                 Item          object    51066     0      0.0   \n",
       "9         Claim Amount         float64    51066     0      0.0   \n",
       "10              Status          object    51066     0      0.0   \n",
       "11        Close Amount         float64    51066     0      0.0   \n",
       "12         Disposition          object    51066     0      0.0   \n",
       "13      Day Difference         float64    51066     0      0.0   \n",
       "14  Amount Differences         float64    51066     0      0.0   \n",
       "\n",
       "               nullFill  unique            min_value            max_value  \\\n",
       "0                  null   51065                    -                    -   \n",
       "1                  null    3523                    -                    -   \n",
       "2                  null   10642                    -                    -   \n",
       "3                  null     405                    -                    -   \n",
       "4                  null     419                    -                    -   \n",
       "5                  null     243                    -                    -   \n",
       "6                  null       8                    -                    -   \n",
       "7                  null       6                    -                    -   \n",
       "8                  null    1854                    -                    -   \n",
       "9   1900-12-12 00:00:00   13248  2000-09-08 00:00:00  2055-05-17 00:00:00   \n",
       "10  1900-12-12 00:00:00      13  2000-01-01 00:00:00  2015-12-29 00:00:00   \n",
       "11                -3000    6010                    0             1.25e+08   \n",
       "12                -3000       4                    0               250000   \n",
       "13                -3000     826                -1789                18279   \n",
       "14                -3000   10496               -431.1             1.25e+08   \n",
       "\n",
       "                                         uniqueSample  \n",
       "0                      [2004090362118, 2007091832139]  \n",
       "1          [2003-03-07 00:00:00, 2007-08-16 00:00:00]  \n",
       "2          [2009-10-17 21:15:00, 2012-01-02 00:00:00]  \n",
       "3                                          [YKM, DSM]  \n",
       "4      [Lake Charles Regional Airport, Hays Regional]  \n",
       "5                          [Air China, Mesa Airlines]  \n",
       "6           [Employee Loss (MPCECA), Passenger Theft]  \n",
       "7                                 [Checkpoint, Other]  \n",
       "8   [Cameras - Digital; Cameras - Non-electronic (...  \n",
       "9                                      [162.6, 21.45]  \n",
       "10                          [Approve in Full, Denied]  \n",
       "11                                    [206.0, 247.34]  \n",
       "12                          [Approve in Full, Settle]  \n",
       "13                                      [555.0, 67.0]  \n",
       "14                                     [89.93, 875.0]  "
      ]
     },
     "execution_count": 8,
     "metadata": {},
     "output_type": "execute_result"
    }
   ],
   "source": [
    "def info_filled_df(data):\n",
    "    max_val = []\n",
    "    min_val = []\n",
    "    for col,nan in nan_fill.items():\n",
    "        if col in data.select_dtypes(['datetime','number']).columns:\n",
    "            max_val.append(data[col].replace({nan:np.nan}).dropna().max())\n",
    "            min_val.append(data[col].replace({nan:np.nan}).dropna().min())\n",
    "        else:\n",
    "            max_val.append('-')\n",
    "            min_val.append('-')\n",
    "            \n",
    "            \n",
    "    return pd.DataFrame(dict(dataFeatures=data.columns,\n",
    "                             dataType=data.dtypes,\n",
    "                             notNull=data.notnull().sum(),\n",
    "                             null=data.isna().sum(),\n",
    "                             nullPct=round(data.isna().sum()/len(data)*100,2),\n",
    "                             nullFill=[i for i in nan_fill.values()],\n",
    "                             unique=data.nunique(),\n",
    "                             min_value=min_val,\n",
    "                             max_value=max_val,\n",
    "                             uniqueSample=[list(data[i].drop_duplicates().sample(2)) for i in data.columns]\n",
    "                            )).reset_index(drop=True)\n",
    "\n",
    "info_filled_df(tsa)"
   ]
  },
  {
   "cell_type": "code",
   "execution_count": null,
   "metadata": {
    "ExecuteTime": {
     "start_time": "2019-10-20T15:13:20.872Z"
    }
   },
   "outputs": [],
   "source": [
    "tsa.drop(columns='Claim Number').describe(include='all').transpose()"
   ]
  },
  {
   "cell_type": "code",
   "execution_count": null,
   "metadata": {
    "ExecuteTime": {
     "start_time": "2019-10-20T15:13:20.888Z"
    }
   },
   "outputs": [],
   "source": [
    "object_cols = [i for i in tsa.select_dtypes('object') if i != 'Claim Number']\n",
    "datetime_cols = [i for i in tsa.select_dtypes('datetime')]\n",
    "number_cols = [i for i in tsa.select_dtypes('number')]"
   ]
  },
  {
   "cell_type": "code",
   "execution_count": null,
   "metadata": {
    "ExecuteTime": {
     "start_time": "2019-10-20T15:13:20.918Z"
    },
    "code_folding": []
   },
   "outputs": [],
   "source": [
    "for i in datetime_cols:\n",
    "    tsa[f'day_{i}'] = tsa[i].apply(lambda x: x.day_name() if x!=fills[1] else 'null')\n",
    "    tsa[f'month_{i}'] = tsa[i].apply(lambda x: x.month_name() if x!=fills[1] else 'null')\n",
    "    tsa[f'year_{i}'] = tsa[i].apply(lambda x: x.year if x!=fills[1] else -3000)\n",
    "\n",
    "tsa.head()"
   ]
  },
  {
   "cell_type": "code",
   "execution_count": null,
   "metadata": {
    "ExecuteTime": {
     "start_time": "2019-10-20T15:13:20.936Z"
    },
    "code_folding": [
     0
    ]
   },
   "outputs": [],
   "source": [
    "def Airport_Code_Name(c='Airport Code',n='Airport Name'):\n",
    "    code_check = {i:[] for i in tsa[c]}\n",
    "    name_check = {i:[] for i in tsa[n]}\n",
    "    for code, name in zip(tsa[c],tsa[n]):\n",
    "        code_check[code].append(name)\n",
    "        name_check[name].append(code)\n",
    "\n",
    "    for dic,s in zip([code_check,name_check],[c,n]):\n",
    "        print(f'\\nDuplicates in {s}\\n')\n",
    "        dupes = []\n",
    "        for key,value in dic.items():\n",
    "            value_set = set(value)\n",
    "            if len(value_set)!=1:\n",
    "                dupes.append(value)\n",
    "                print(f'key = {key}')\n",
    "                print(f'duplicate values = {value_set}')\n",
    "        if len(dupes)==0:\n",
    "            print(\"There are no duplicates\")\n",
    "                \n",
    "Airport_Code_Name()"
   ]
  },
  {
   "cell_type": "code",
   "execution_count": null,
   "metadata": {
    "ExecuteTime": {
     "start_time": "2019-10-20T15:13:20.960Z"
    }
   },
   "outputs": [],
   "source": [
    "tsa['Airport Name'] = tsa['Airport Name'].apply(lambda x: x.strip() if not pd.isna(x) else x)\n",
    "Airport_Code_Name()"
   ]
  },
  {
   "cell_type": "code",
   "execution_count": null,
   "metadata": {
    "ExecuteTime": {
     "start_time": "2019-10-20T15:13:20.998Z"
    },
    "code_folding": [
     0
    ]
   },
   "outputs": [],
   "source": [
    "PNS_Airport_describe = tsa[tsa['Airport Code']=='PNS'].groupby(\n",
    "    'Airport Name').describe(\n",
    "    include='all').drop(\n",
    "    columns='Claim Number').transpose()\n",
    "\n",
    "PNS_Airport_describe"
   ]
  },
  {
   "cell_type": "code",
   "execution_count": null,
   "metadata": {
    "ExecuteTime": {
     "start_time": "2019-10-20T15:13:21.014Z"
    },
    "code_folding": [
     2
    ]
   },
   "outputs": [],
   "source": [
    "idx = [i for i in PNS_Airport_describe]\n",
    "val = {'ratio':[],'claim_quantity':[],'days_since_first_claim':[]}\n",
    "for i in PNS_Airport_describe:\n",
    "    first = PNS_Airport_describe.loc[('Incident Date','first'),i]\n",
    "    last_regional = PNS_Airport_describe.loc[('Incident Date','last'),i]\n",
    "    if 'Regional' in i:\n",
    "        duration = (last_regional-first).days\n",
    "    else:\n",
    "        duration = (tsa['Incident Date'].describe()['last']-first).days\n",
    "    count=PNS_Airport_describe.loc[('Incident Date','count'),i]\n",
    "    ratio=count/duration*100\n",
    "    for v,value in zip(val.keys(),[ratio,count,duration]):\n",
    "        val[v].append(value)\n",
    "pd.DataFrame(val,idx)    "
   ]
  },
  {
   "cell_type": "code",
   "execution_count": null,
   "metadata": {
    "ExecuteTime": {
     "start_time": "2019-10-20T15:13:21.025Z"
    },
    "code_folding": [
     4
    ]
   },
   "outputs": [],
   "source": [
    "airport_code_grp = tsa[['Airport Code','Incident Date']].groupby('Airport Code').describe()\n",
    "last_claim = tsa['Incident Date'].describe()['last']\n",
    "idx = []\n",
    "val = {'ratio':[],'claim_quantity':[],'days_since_first_claim':[]}\n",
    "for i in airport_code_grp.index:\n",
    "    idx.append(i)\n",
    "    first_claim = airport_code_grp.loc[i,('Incident Date','first')]\n",
    "#     last = airport_code_grp.loc[i,('Incident Date','last')]\n",
    "    duration = (last_claim-first_claim).days\n",
    "    count = airport_code_grp.loc[i,('Incident Date','count')]\n",
    "#     if duration==0:\n",
    "#         ratio = -count\n",
    "#     else:\n",
    "    ratio = count/duration*100\n",
    "    for v,value in zip(val.keys(),[ratio,count,duration]):\n",
    "        val[v].append(value)\n",
    "df_ratio = pd.DataFrame(val,idx).sort_values('ratio',ascending=False)"
   ]
  },
  {
   "cell_type": "code",
   "execution_count": null,
   "metadata": {
    "ExecuteTime": {
     "start_time": "2019-10-20T15:13:21.047Z"
    },
    "scrolled": true
   },
   "outputs": [],
   "source": [
    "tsa[tsa['Airport Code']=='MSP'].describe(include='all').drop(columns=['Claim Number','Airport Name','Airport Code']).transpose()"
   ]
  },
  {
   "cell_type": "code",
   "execution_count": null,
   "metadata": {
    "ExecuteTime": {
     "start_time": "2019-10-20T15:13:21.063Z"
    }
   },
   "outputs": [],
   "source": [
    "msp = 'Minneapolis/ St.Paul International Airport'\n",
    "tsa['msp']=tsa['Airport Code'].apply(lambda c: msp if c=='MSP' else f'Not {msp}')"
   ]
  },
  {
   "cell_type": "code",
   "execution_count": null,
   "metadata": {
    "ExecuteTime": {
     "end_time": "2019-10-19T20:00:40.136630Z",
     "start_time": "2019-10-19T20:00:39.744520Z"
    }
   },
   "outputs": [],
   "source": []
  },
  {
   "cell_type": "code",
   "execution_count": null,
   "metadata": {
    "ExecuteTime": {
     "end_time": "2019-10-19T19:23:55.862685Z",
     "start_time": "2019-10-19T19:20:22.136209Z"
    }
   },
   "outputs": [],
   "source": []
  },
  {
   "cell_type": "code",
   "execution_count": null,
   "metadata": {
    "ExecuteTime": {
     "start_time": "2019-10-20T15:13:21.100Z"
    },
    "scrolled": true
   },
   "outputs": [],
   "source": [
    "x,y = 'Date Received','Incident Date'\n",
    "figure = go.Figure({'data':[go.Scatter(\n",
    "                x= tsa[tsa['msp']==i][x],\n",
    "                y= tsa[tsa['msp']==i][y],\n",
    "                mode='markers',\n",
    "                name= f'{i}',    \n",
    "            ) for i in tsa['msp'].unique()\n",
    "            ],\n",
    "                'layout':go.Layout(\n",
    "                    xaxis= {'title':x},\n",
    "                    yaxis = {'title':y},\n",
    "                    hovermode = 'closest',\n",
    "                    title = f'{x} vs {y}'\n",
    "                )\n",
    "            })\n",
    "\n",
    "iplot(figure)"
   ]
  },
  {
   "cell_type": "code",
   "execution_count": null,
   "metadata": {
    "ExecuteTime": {
     "start_time": "2019-10-20T15:13:21.114Z"
    }
   },
   "outputs": [],
   "source": [
    "sns.set_style('whitegrid')\n",
    "sns.scatterplot('Claim Amount','Close Amount',data=tsa[tsa['Airport Code']=='MSP'])"
   ]
  },
  {
   "cell_type": "code",
   "execution_count": null,
   "metadata": {
    "ExecuteTime": {
     "start_time": "2019-10-20T15:13:21.126Z"
    }
   },
   "outputs": [],
   "source": [
    "objcts = [i for i in object_cols if not i in ['Airport Name','Airport Code']]\n",
    "fig,axes = plt.subplots(len(objcts),2,figsize=(16,16*len(objcts)))\n",
    "for ratio, ax in zip(objcts,axes):\n",
    "    for filt,a in zip(tsa['msp'].unique(),ax):\n",
    "        data = tsa[tsa['msp']==filt][ratio].value_counts(normalize=True).head(10)\n",
    "        a.set_title(f'{ratio} Ratio\\n({filt})\\n')\n",
    "        sns.barplot(x=data.index,y=data,ax=a,orient='v')\n",
    "        a.tick_params('x',labelrotation=90)\n",
    "plt.tight_layout()"
   ]
  },
  {
   "cell_type": "code",
   "execution_count": null,
   "metadata": {
    "ExecuteTime": {
     "start_time": "2019-10-20T15:13:21.140Z"
    }
   },
   "outputs": [],
   "source": [
    "fig,axes = plt.subplots(4,2,figsize=(16,8*4))\n",
    "for ratio, ax in zip(number_cols,axes):\n",
    "    for filt,a in zip(tsa['msp'].unique(),ax):\n",
    "        data = tsa[tsa['msp']==filt][ratio].value_counts(normalize=True).head(10)\n",
    "        a.set_title(f'{ratio} Ratio\\n({filt})\\n')\n",
    "        sns.barplot(x=data.index,y=data,ax=a)\n",
    "plt.tight_layout()"
   ]
  },
  {
   "cell_type": "code",
   "execution_count": null,
   "metadata": {
    "ExecuteTime": {
     "start_time": "2019-10-20T15:13:21.150Z"
    }
   },
   "outputs": [],
   "source": [
    "ser = tsa[tsa['Airline Name']=='Northwest Airlines']['Airport Name']\n",
    "sns.countplot(y=ser,order=ser.value_counts().head(10).index)\n",
    "plt.title(f'''Total claims from passengers using Northwest Airlines in each Airports\n",
    "          (There are {len(ser)} claims from {ser.nunique()} airports)''')\n",
    "for y,x in enumerate(ser.value_counts().head(10)):\n",
    "    pct = round(x/len(ser)*100,2)\n",
    "    plt.annotate(f'{x} ({pct}%)',(x+5,(y+.14)))"
   ]
  },
  {
   "cell_type": "code",
   "execution_count": null,
   "metadata": {
    "ExecuteTime": {
     "start_time": "2019-10-20T15:13:21.163Z"
    }
   },
   "outputs": [],
   "source": [
    "ser = tsa[tsa['Airport Name'].str.contains('Detroit')]['Airline Name']\n",
    "sns.countplot(y=ser,order=ser.value_counts().head(10).index)\n",
    "plt.title(f'''Total claims from passengers landing in\n",
    "Detroit Metropolitan Wayne Country Airport from each Airlines\n",
    "(There are {len(ser)} claims from {ser.nunique()} airlines)''')\n",
    "for y,x in enumerate(ser.value_counts().head(10)):\n",
    "    pct = round(x/len(ser)*100,2)\n",
    "    plt.annotate(f'{x} ({pct}%)',(x+5,(y+.14)))"
   ]
  },
  {
   "cell_type": "code",
   "execution_count": null,
   "metadata": {
    "ExecuteTime": {
     "start_time": "2019-10-20T15:13:21.198Z"
    }
   },
   "outputs": [],
   "source": [
    "northwest = tsa[tsa['Airline Name']=='Northwest Airlines']\n",
    "airports = northwest['Airport Name'].unique()\n",
    "# airports = [i for i in northwest['Airport Name'].unique() if len(tsa[tsa['Airport Name']==i])>100]\n",
    "# fig,ax = plt.subplots(len(airports),1,figsize=(12,len(airports)*7))\n",
    "# for ap,a in zip(airports,ax):\n",
    "#     ser=tsa[tsa['Airport Name']==ap]['Airline Name']\n",
    "#     sns.countplot(y=ser,order=ser.value_counts().head(10).index,ax=a)\n",
    "#     a.set_title(f'''Total claims from passengers landing in {ap}\n",
    "#     (There are {len(ser)} claims)''')\n",
    "#     for y,x in enumerate(ser.value_counts().head(10)):\n",
    "#         pct = round(x/len(ser)*100,2)\n",
    "#         a.annotate(f'{x} ({pct}%)',(x*1.1,(y+.14)))\n",
    "# plt.tight_layout()\n",
    "\n",
    "index=[]\n",
    "columns = ['count_all','count_northwest','percentage']\n",
    "count={f'{i}':[] for i in columns}\n",
    "\n",
    "for idx in airports:\n",
    "    index.append(idx)\n",
    "    al = len(tsa[tsa['Airport Name']==idx])\n",
    "    nwa = len(northwest[northwest['Airport Name']==idx])\n",
    "    perc = nwa/al*100\n",
    "    for key, val in zip(columns,[al,nwa,perc]):\n",
    "        count[key].append(val)\n",
    "\n",
    "pd.DataFrame(count,index).sort_values(['count_northwest','percentage'],ascending=False)"
   ]
  },
  {
   "cell_type": "code",
   "execution_count": null,
   "metadata": {
    "ExecuteTime": {
     "start_time": "2019-10-20T15:13:21.214Z"
    }
   },
   "outputs": [],
   "source": [
    "cutoff = tsa['Airport Code'].value_counts().head(10).index\n",
    "sns.scatterplot('Airport Code','Airline Name',data=tsa[tsa['Airport Code'].isin(cutoff)])"
   ]
  },
  {
   "cell_type": "code",
   "execution_count": null,
   "metadata": {
    "ExecuteTime": {
     "start_time": "2019-10-20T15:13:21.225Z"
    }
   },
   "outputs": [],
   "source": [
    "cutoff = tsa['Airline Name'].value_counts().head(10).index\n",
    "sns.scatterplot('Airport Code','Airline Name',data=tsa[tsa['Airline Name'].isin(cutoff)])"
   ]
  },
  {
   "cell_type": "code",
   "execution_count": null,
   "metadata": {
    "ExecuteTime": {
     "start_time": "2019-10-20T15:13:21.740Z"
    }
   },
   "outputs": [],
   "source": [
    "df_count = pd.DataFrame({'claims count':tsa.groupby(['Airport Name','Airline Name']).count()['Claim Number']})\n",
    "df_count['claims percentage'] = df_count['claims count'].apply(lambda c:round(c/len(tsa)*100,2))\n",
    "df_count.sort_values(['claims percentage','claims count'],ascending=False)"
   ]
  },
  {
   "cell_type": "code",
   "execution_count": null,
   "metadata": {
    "ExecuteTime": {
     "start_time": "2019-10-20T15:13:21.752Z"
    }
   },
   "outputs": [],
   "source": [
    "sns.heatmap(tsa.select_dtypes('number').corr(),annot=True)"
   ]
  },
  {
   "cell_type": "code",
   "execution_count": null,
   "metadata": {
    "ExecuteTime": {
     "start_time": "2019-10-20T15:13:21.783Z"
    }
   },
   "outputs": [],
   "source": [
    "fig,axes = plt.subplots(2,1,figsize=(14,8*2))\n",
    "# sns.distplot(tsa['year_Incident Date'])\n",
    "# sns.distplot(tsa['Day Difference'])\n",
    "sns.scatterplot('year_Incident Date','Day Difference',data=tsa[tsa['year_Incident Date']!=-3000],ax=axes[0])\n",
    "axes[0].set_title('Incident Date Year != null')\n",
    "sns.scatterplot('year_Incident Date','Day Difference',data=tsa[tsa['year_Incident Date']==-3000],ax=axes[1])\n",
    "axes[1].set_title('Incident Date Year == null')"
   ]
  },
  {
   "cell_type": "code",
   "execution_count": null,
   "metadata": {
    "ExecuteTime": {
     "start_time": "2019-10-20T15:13:21.795Z"
    }
   },
   "outputs": [],
   "source": [
    "tsa.groupby('year_Incident Date').mean()['Day Difference']"
   ]
  },
  {
   "cell_type": "code",
   "execution_count": null,
   "metadata": {
    "ExecuteTime": {
     "start_time": "2019-10-20T15:13:21.989Z"
    }
   },
   "outputs": [],
   "source": [
    "tsa[tsa['Day Difference']>360].describe(include='all').drop(columns=['Claim Number','msp']).transpose()"
   ]
  },
  {
   "cell_type": "code",
   "execution_count": null,
   "metadata": {
    "ExecuteTime": {
     "start_time": "2019-10-20T15:13:22.008Z"
    }
   },
   "outputs": [],
   "source": [
    "tsa[tsa['Day Difference']<0].describe(include='all').drop(columns=['Claim Number','msp']).transpose()"
   ]
  },
  {
   "cell_type": "code",
   "execution_count": null,
   "metadata": {
    "ExecuteTime": {
     "start_time": "2019-10-20T15:13:22.026Z"
    },
    "scrolled": false
   },
   "outputs": [],
   "source": [
    "tsa[tsa['Date Received']>tsa['Incident Date'].max()].describe(include='all').drop(columns=['Claim Number','msp']).transpose()"
   ]
  },
  {
   "cell_type": "code",
   "execution_count": null,
   "metadata": {
    "ExecuteTime": {
     "start_time": "2019-10-20T15:13:22.037Z"
    }
   },
   "outputs": [],
   "source": [
    "sns.scatterplot('Day Difference','Amount Differences',data=tsa[(tsa['Amount Differences']!=-3000)&(tsa['Day Difference']!=-3000)])"
   ]
  },
  {
   "cell_type": "code",
   "execution_count": null,
   "metadata": {
    "ExecuteTime": {
     "start_time": "2019-10-20T15:13:22.055Z"
    }
   },
   "outputs": [],
   "source": [
    "tsa[(tsa['Claim Amount']==-3000)&(tsa['Close Amount']==-3000)].describe(include='all').drop(columns=['Claim Number','msp']).transpose()"
   ]
  },
  {
   "cell_type": "code",
   "execution_count": null,
   "metadata": {
    "ExecuteTime": {
     "start_time": "2019-10-20T15:13:22.070Z"
    }
   },
   "outputs": [],
   "source": [
    "tsa_null[tsa_null['Disposition'].isna()].describe(include='all').drop(columns='Claim Number').transpose()"
   ]
  },
  {
   "cell_type": "code",
   "execution_count": null,
   "metadata": {
    "ExecuteTime": {
     "start_time": "2019-10-20T15:13:22.086Z"
    }
   },
   "outputs": [],
   "source": [
    "tsa_null[tsa_null['Status'].isna()].describe(include='all').drop(columns='Claim Number').transpose()"
   ]
  },
  {
   "cell_type": "code",
   "execution_count": null,
   "metadata": {
    "ExecuteTime": {
     "start_time": "2019-10-20T15:13:22.096Z"
    }
   },
   "outputs": [],
   "source": [
    "def sd(cols):\n",
    "    status=cols[0]\n",
    "    disp=cols[1]\n",
    "    if pd.isna(status) and pd.isna(disp):\n",
    "        return 'both null'\n",
    "    elif not(pd.isna(status) and pd.isna(disp)):\n",
    "        return 'none null'\n",
    "    elif pd.isna(status) and not pd.isna(disp):\n",
    "        return 'status null'\n",
    "    else:\n",
    "        return 'disposition null'\n",
    "tsa_null['status_disposition'] = tsa_null[['Status','Disposition']].apply(sd,axis = 1)"
   ]
  },
  {
   "cell_type": "code",
   "execution_count": null,
   "metadata": {
    "ExecuteTime": {
     "start_time": "2019-10-20T15:13:22.111Z"
    }
   },
   "outputs": [],
   "source": [
    "plt.figure(figsize=(8,8))\n",
    "sns.scatterplot(y='Incident Date',x='Status',hue='status_disposition',data=tsa_null)\n",
    "plt.xticks(rotation=90)\n"
   ]
  },
  {
   "cell_type": "code",
   "execution_count": null,
   "metadata": {
    "ExecuteTime": {
     "start_time": "2019-10-20T15:13:22.128Z"
    },
    "scrolled": true
   },
   "outputs": [],
   "source": [
    "plt.figure(figsize=(8,8))\n",
    "sns.scatterplot(y='Incident Date',x='Disposition',hue='status_disposition',data=tsa_null)\n",
    "# plt.xticks(rotation=90)\n"
   ]
  },
  {
   "cell_type": "code",
   "execution_count": null,
   "metadata": {
    "ExecuteTime": {
     "start_time": "2019-10-20T15:13:22.141Z"
    }
   },
   "outputs": [],
   "source": [
    "plt.figure(figsize=(8,8))\n",
    "sns.scatterplot(y='Disposition',x='Status',hue='year_Incident Date',data=tsa[tsa['year_Incident Date']!=-3000],palette='plasma')\n",
    "plt.xticks(rotation=90)\n"
   ]
  },
  {
   "cell_type": "code",
   "execution_count": null,
   "metadata": {
    "ExecuteTime": {
     "start_time": "2019-10-20T15:13:22.153Z"
    }
   },
   "outputs": [],
   "source": [
    "tsa[tsa['Disposition']=='null']['Status'].value_counts()"
   ]
  },
  {
   "cell_type": "code",
   "execution_count": null,
   "metadata": {
    "ExecuteTime": {
     "start_time": "2019-10-20T15:13:22.164Z"
    }
   },
   "outputs": [],
   "source": [
    "# plt.figure(figsize=(20,4))\n",
    "# sns.countplot(y='Airport Code',data=tsa,order=tsa['Airport Code'].value_counts().head(10).index)\n",
    "# sns.despine(bottom=True)\n",
    "# plt.xticks([])\n",
    "# plt.xlabel('')\n",
    "# top10 = []\n",
    "# for y,x in enumerate(tsa['Airport Code'].value_counts().head(10)):\n",
    "#     pct = round(x/len(tsa)*100,2)\n",
    "#     plt.annotate(f'{x} ({pct}%)',(x+10,(y+.14)))\n",
    "#     top10.append(pct)\n",
    "# top10 = round(sum(top10),2)\n",
    "# plt.title(f'Countplot of Airport Code\\n(Top 10, {top10}% of the data)\\n')"
   ]
  },
  {
   "cell_type": "code",
   "execution_count": null,
   "metadata": {
    "ExecuteTime": {
     "start_time": "2019-10-20T15:13:22.183Z"
    }
   },
   "outputs": [],
   "source": [
    "# tsa.drop(columns='Claim Number')[tsa['Airport Code']=='null'].describe(include='all')"
   ]
  },
  {
   "cell_type": "code",
   "execution_count": null,
   "metadata": {
    "ExecuteTime": {
     "end_time": "2019-10-19T08:57:40.678121Z",
     "start_time": "2019-10-19T08:57:40.663110Z"
    }
   },
   "outputs": [],
   "source": []
  },
  {
   "cell_type": "code",
   "execution_count": null,
   "metadata": {
    "ExecuteTime": {
     "end_time": "2019-10-19T08:58:01.550176Z",
     "start_time": "2019-10-19T08:58:01.537166Z"
    }
   },
   "outputs": [],
   "source": []
  },
  {
   "cell_type": "code",
   "execution_count": null,
   "metadata": {
    "ExecuteTime": {
     "start_time": "2019-10-20T15:13:22.208Z"
    }
   },
   "outputs": [],
   "source": [
    "# fig, axes = plt.subplots(len(object_cols),1,figsize=(12,12*len(object_cols)))\n",
    "\n",
    "# for col, ax in zip(object_cols,axes):\n",
    "#     ser = tsa[col]\n",
    "#     sns.countplot(y=ser,ax=ax,order=ser.value_counts().head(10).index)\n"
   ]
  },
  {
   "cell_type": "code",
   "execution_count": null,
   "metadata": {},
   "outputs": [],
   "source": []
  }
 ],
 "metadata": {
  "hide_input": false,
  "kernelspec": {
   "display_name": "Python 3",
   "language": "python",
   "name": "python3"
  },
  "language_info": {
   "codemirror_mode": {
    "name": "ipython",
    "version": 3
   },
   "file_extension": ".py",
   "mimetype": "text/x-python",
   "name": "python",
   "nbconvert_exporter": "python",
   "pygments_lexer": "ipython3",
   "version": "3.7.1"
  },
  "toc": {
   "base_numbering": 1,
   "nav_menu": {},
   "number_sections": true,
   "sideBar": true,
   "skip_h1_title": false,
   "title_cell": "Table of Contents",
   "title_sidebar": "Contents",
   "toc_cell": false,
   "toc_position": {},
   "toc_section_display": true,
   "toc_window_display": false
  },
  "varInspector": {
   "cols": {
    "lenName": 16,
    "lenType": 16,
    "lenVar": 40
   },
   "kernels_config": {
    "python": {
     "delete_cmd_postfix": "",
     "delete_cmd_prefix": "del ",
     "library": "var_list.py",
     "varRefreshCmd": "print(var_dic_list())"
    },
    "r": {
     "delete_cmd_postfix": ") ",
     "delete_cmd_prefix": "rm(",
     "library": "var_list.r",
     "varRefreshCmd": "cat(var_dic_list()) "
    }
   },
   "types_to_exclude": [
    "module",
    "function",
    "builtin_function_or_method",
    "instance",
    "_Feature"
   ],
   "window_display": false
  }
 },
 "nbformat": 4,
 "nbformat_minor": 2
}
